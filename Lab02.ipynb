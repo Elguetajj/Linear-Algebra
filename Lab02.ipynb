{
 "cells": [
  {
   "cell_type": "code",
   "execution_count": 241,
   "metadata": {},
   "outputs": [
    {
     "name": "stdout",
     "output_type": "stream",
     "text": [
      "Num1:8\n",
      "Num2:4\n",
      "the Substraction of 8 and 4 is 4\n",
      "the Addition of 8 and 4 is 12\n",
      "the Multiplication of 8 and 4 is 32\n",
      "the Division of 8 and 4 is 2.0\n",
      "\n",
      "1,1,1,1,1,1,1,\n",
      "1,1,1,1,1,1,1,\n",
      "1,1,1,1,1,1,1,\n",
      "1,1,1,1,1,1,1,\n",
      "1,1,1,1,1,1,1,\n",
      "1,1,1,1,1,1,1,\n",
      "1,1,1,1,1,1,1,\n",
      "\n",
      "0,1,1,1,1,1,1,\n",
      "1,0,1,1,1,1,1,\n",
      "1,1,0,1,1,1,1,\n",
      "1,1,1,0,1,1,1,\n",
      "1,1,1,1,0,1,1,\n",
      "1,1,1,1,1,0,1,\n",
      "1,1,1,1,1,1,0,\n"
     ]
    }
   ],
   "source": [
    "Num1= 8\n",
    "Num2= 4\n",
    "print(f\"Num1:{Num1}\")\n",
    "print(f\"Num2:{Num2}\")\n",
    "\n",
    "Arr=[Num1-Num2,Num1+Num2,Num1*Num2,Num1/Num2]\n",
    "Ops=[\"Substraction\",\"Addition\",\"Multiplication\",\"Division\"]\n",
    "\n",
    "for operation, result in zip(Ops, Arr):\n",
    "    print('the {} of {} and {} is {}'.format(operation, Num1, Num2, result))\n",
    "\n",
    "Arr2=[1,1,1,1,1,1,1],[1,1,1,1,1,1,1],[1,1,1,1,1,1,1],[1,1,1,1,1,1,1],[1,1,1,1,1,1,1],[1,1,1,1,1,1,1],[1,1,1,1,1,1,1]\n",
    "\n",
    "\n",
    "def printarr(arr):\n",
    "    for row in arr:\n",
    "        for val in row:\n",
    "            print (f\"{val}\", end=',')\n",
    "        print()\n",
    "\n",
    "print()\n",
    "printarr(Arr2)\n",
    "\n",
    "def changediagonal(arr):\n",
    "    for i, row in enumerate(arr):\n",
    "        for j, val in enumerate(row):\n",
    "            if i==j:\n",
    "                arr[i][j]=0\n",
    "            \n",
    "            \n",
    "print()\n",
    "changediagonal(Arr2)        \n",
    "printarr(Arr2)"
   ]
  },
  {
   "cell_type": "code",
   "execution_count": null,
   "metadata": {},
   "outputs": [],
   "source": []
  }
 ],
 "metadata": {
  "kernelspec": {
   "display_name": "LinearAlgEnv",
   "language": "python",
   "name": "linearalgenv"
  },
  "language_info": {
   "codemirror_mode": {
    "name": "ipython",
    "version": 3
   },
   "file_extension": ".py",
   "mimetype": "text/x-python",
   "name": "python",
   "nbconvert_exporter": "python",
   "pygments_lexer": "ipython3",
   "version": "3.7.4"
  }
 },
 "nbformat": 4,
 "nbformat_minor": 2
}
