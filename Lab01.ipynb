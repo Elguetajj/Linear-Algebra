{
 "cells": [
  {
   "cell_type": "code",
   "execution_count": 1,
   "metadata": {},
   "outputs": [
    {
     "name": "stdout",
     "output_type": "stream",
     "text": [
      "matriz A: \n",
      "[[1 2]\n",
      " [3 4]]\n",
      "inversa con numpy: \n",
      " [[-2.   1. ]\n",
      " [ 1.5 -0.5]]\n",
      "inversa con sympy: \n",
      " Matrix([[-2, 1], [3/2, -1/2]])\n",
      "inversa con FERR: \n",
      " (Matrix([\n",
      "[1, 0,  -2,    1],\n",
      "[0, 1, 3/2, -1/2]]), (0, 1))\n"
     ]
    },
    {
     "data": {
      "image/png": "[encoded data removed]",
      "text/plain": [
       "<Figure size 432x288 with 1 Axes>"
      ]
     },
     "metadata": {
      "needs_background": "dark"
     },
     "output_type": "display_data"
    }
   ],
   "source": [
    "# %load lab1.py\n",
    "import numpy as np\n",
    "import sympy as sp\n",
    "\n",
    "import matplotlib\n",
    "matplotlib.use('TkAgg')\n",
    "import matplotlib.pyplot as plt\n",
    "\n",
    "\n",
    "#funcion para agregar la matriz aumentada a una matriz cualquiera (mxm)\n",
    "def Aumentar(a):\n",
    "    Valor='h'+str(sp.Matrix(a).shape)\n",
    "    Identidad=sp.eye(int(Valor[2]))\n",
    "    for x in range(0, int(Valor[2])):\n",
    "        Identidad=Identidad.col_insert(x, sp.Matrix(a).col(x))\n",
    "    return Identidad\n",
    "\n",
    "\n",
    "#Escriba e imprima una matriz 2 x 2\n",
    "A = np.array([[1, 2], [3, 4]])\n",
    "print(\"matriz A: \\n\" + str(A))\n",
    "\n",
    "#Calcule la inversa\n",
    "inva = np.linalg.inv(A)                     #con numpy\n",
    "print(\"inversa con numpy: \\n \" + str(inva))\n",
    "inva2 = sp.Matrix(A).inv()                  #ccon sympy\n",
    "print(\"inversa con sympy: \\n \" + str(inva2))\n",
    "inva3 = Aumentar(A).rref()\n",
    "print(\"inversa con FERR: \\n \" + str(inva3))  #con FERR\n",
    "\n",
    "\n",
    "s = np.random.randint(100, size=(5, 5))   #matriz de 5x5 con valores enteros aleatorios con maximo de 100\n",
    "\n",
    "#Cree definiciones para construir funciones\n",
    "def f(x):\n",
    "    return (s[0][0])*x*x+(s[0][1])*x-(s[0][3])\n",
    "\n",
    "# Valores que tomara x\n",
    "x = range(-20, 20)\n",
    "\n",
    "%matplotlib inline \n",
    "\n",
    "# Graficar la funcion en el rango especificado\n",
    "\n",
    "plt.plot(x, [f(i) for i in x])\n",
    "\n",
    "# Establecemos el color de los ejes.\n",
    "plt.axhline(0, color=\"black\")\n",
    "\n",
    "# Especificamos los limites de los ejes.\n",
    "plt.xlim(-10, 10)\n",
    "plt.ylim(-100, 100)\n",
    "\n",
    "#comando para guardar la grafica en la misma carpeta del proyecto.\n",
    "plt.savefig(\"output.png\")\n",
    "\n",
    "# Mostramos el grafico realizado.\n",
    "plt.show()"
   ]
  }
 ],
 "metadata": {
  "kernelspec": {
   "display_name": "LinearAlgebra",
   "language": "python",
   "name": "linearalgebra"
  },
  "language_info": {
   "codemirror_mode": {
    "name": "ipython",
    "version": 3
   },
   "file_extension": ".py",
   "mimetype": "text/x-python",
   "name": "python",
   "nbconvert_exporter": "python",
   "pygments_lexer": "ipython3",
   "version": "3.7.4"
  }
 },
 "nbformat": 4,
 "nbformat_minor": 2
}
