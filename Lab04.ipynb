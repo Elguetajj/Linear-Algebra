{
 "cells": [
  {
   "cell_type": "code",
   "execution_count": 8,
   "metadata": {},
   "outputs": [
    {
     "name": "stdout",
     "output_type": "stream",
     "text": [
      "[0.14563717 0.95671932 0.76485298 0.796075   0.00206752 0.19896286\n",
      " 0.44754257 0.96261906 0.63081706 0.90539423 0.41861454 0.98812762\n",
      " 0.54033799 0.96022138 0.57528525 0.78197008 0.76627337 0.68101033\n",
      " 0.5946414  0.28984746]\n"
     ]
    }
   ],
   "source": [
    "import numpy as np\n",
    "import sympy as sp\n",
    "\n",
    "A = np.arange(15*15).reshape(15,15)\n",
    "B = np.arange(15*15).reshape(15,15)\n",
    "np.fill_diagonal(A,0)\n",
    "np.fill_diagonal(B,1)\n",
    "\n",
    "suma = A + B\n",
    "resta = A - B\n",
    "producto = A*B\n",
    "\n",
    "AT = A.transpose()\n",
    "BT = B.transpose()\n",
    "\n",
    "C = np.array(np.random.rand(20))\n",
    "D = np.array(np.random.rand(20))\n",
    "\n",
    "CD = C * D"
   ]
  }
 ],
 "metadata": {
  "kernelspec": {
   "display_name": "LinearAlgebra",
   "language": "python",
   "name": "linearalgebra"
  },
  "language_info": {
   "codemirror_mode": {
    "name": "ipython",
    "version": 3
   },
   "file_extension": ".py",
   "mimetype": "text/x-python",
   "name": "python",
   "nbconvert_exporter": "python",
   "pygments_lexer": "ipython3",
   "version": "3.7.4"
  }
 },
 "nbformat": 4,
 "nbformat_minor": 2
}
